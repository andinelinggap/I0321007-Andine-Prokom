{
 "cells": [
  {
   "cell_type": "markdown",
   "metadata": {},
   "source": [
    "# Exercise 09  \n",
    "### OPERASI MATRIKS  \n",
    "Silahkan lengkapi kode yang rumpang sesuai perintah yang diberikan.\n"
   ]
  },
  {
   "cell_type": "markdown",
   "metadata": {},
   "source": [
    "![](./image/1.png)"
   ]
  },
  {
   "cell_type": "code",
   "execution_count": 1,
   "metadata": {},
   "outputs": [
    {
     "name": "stdout",
     "output_type": "stream",
     "text": [
      "[[11, 22], [33, 44]]\n",
      "[[55, 66], [77, 88]]\n"
     ]
    }
   ],
   "source": [
    "A = [[11,22],\n",
    "     [33,44]]\n",
    "\n",
    "B = [[55, 66],\n",
    "     [77, 88]]\n",
    "print(A)\n",
    "print(B)\n"
   ]
  },
  {
   "cell_type": "markdown",
   "metadata": {},
   "source": [
    "Buatlah matriks menggunakan metode perulangan for dengan ketentuan sebagai berikut:\n",
    "* Matriks A berisi angka sebesar 4 setelah nim kalian. (ex: nim = 12, nilai matriks [16, 16],[16,16])\n",
    "* Matriks B berisi angka sebesar 4 sebelum nim kalian. (ex: nim = 12, nilai matriks [8, 8],[8,8])\n"
   ]
  },
  {
   "cell_type": "code",
   "execution_count": 2,
   "metadata": {},
   "outputs": [
    {
     "name": "stdout",
     "output_type": "stream",
     "text": [
      "[[11, 11], [11, 11]]\n",
      "[[3, 3], [3, 3]]\n"
     ]
    }
   ],
   "source": [
    "def create(matriks, nim):\n",
    "    for i in range(2):\n",
    "        for k in range(2):\n",
    "            matriks[i][k] = nim\n",
    "create(A, 11)\n",
    "create(B, 3)\n",
    "\n",
    "print(A)\n",
    "print(B)"
   ]
  },
  {
   "cell_type": "markdown",
   "metadata": {},
   "source": [
    "## KERJAKAN SOAL BERIKUT\n",
    "1. Buatlah program penjumlahan matriks A dan B.\n",
    "2. Buatlah program pengurangan matriks A dan B.\n",
    "3. Buatlah program perkalian matriks A dan B."
   ]
  },
  {
   "cell_type": "code",
   "execution_count": 17,
   "metadata": {},
   "outputs": [
    {
     "name": "stdout",
     "output_type": "stream",
     "text": [
      "[ 55 55 ]\n",
      "[ 55 55 ]\n"
     ]
    }
   ],
   "source": [
    "#SOAL-1\n",
    "#YOUR CODE HERE\n",
    "MatriksA = [[11,22],\n",
    "            [33,44]]\n",
    "MatriksB = [[44,33],\n",
    "            [22,11]]\n",
    "for x in range(len(MatriksA)):\n",
    "    print(\"[\", end= ' ')\n",
    "    for y in range(len(MatriksA[0])):\n",
    "        print(MatriksA[x][y]+MatriksB[x][y], end=' ')\n",
    "    print(\"]\")\n",
    "    "
   ]
  },
  {
   "cell_type": "code",
   "execution_count": 19,
   "metadata": {},
   "outputs": [
    {
     "name": "stdout",
     "output_type": "stream",
     "text": [
      "[ 44 44 ]\n",
      "[ 44 44 ]\n"
     ]
    }
   ],
   "source": [
    "#SOAL-2\n",
    "#YOUR CODE HERE\n",
    "MatriksA = [[99,88],\n",
    "            [77,66]]\n",
    "MatriksB = [[55,44],\n",
    "            [33,22]]\n",
    "for x in range(len(MatriksA)):\n",
    "    print(\"[\", end= ' ')\n",
    "    for y in range(len(MatriksA[0])):\n",
    "        print(MatriksA[x][y]-MatriksB[x][y], end=' ')\n",
    "    print(\"]\")\n",
    "    "
   ]
  },
  {
   "cell_type": "code",
   "execution_count": 28,
   "metadata": {},
   "outputs": [
    {
     "name": "stdout",
     "output_type": "stream",
     "text": [
      "[ 264 264 ]\n",
      "[ 264 264 ]\n"
     ]
    }
   ],
   "source": [
    "#SOAL-3\n",
    "#YOUR CODE HERE\n",
    "MatriksA = [[11,11],\n",
    "            [11,11]]\n",
    "\n",
    "MatriksB = [[12,12],\n",
    "            [12,12]]\n",
    "\n",
    "MatriksC = []\n",
    "\n",
    "for x in range(0, len(MatriksA)):\n",
    "     baris = []\n",
    "     for y in range(0, len(MatriksA[0])):\n",
    "          total=0; \n",
    "          for z in range(0, len(MatriksA)):\n",
    "               total=total + (MatriksA[x][z]*MatriksB[z][y])\n",
    "          baris.append(total)\n",
    "     MatriksC.append(baris)\n",
    "\n",
    "for x in range (0,len(MatriksC)):\n",
    "    print(\"[\", end=' ')\n",
    "    for y in range (0,len(MatriksC[0])):\n",
    "        print(MatriksC[x][y], end=\" \")\n",
    "    print(\"]\")"
   ]
  },
  {
   "cell_type": "markdown",
   "metadata": {},
   "source": [
    "### Cara Pengumpulan\n",
    "\n",
    "1. Buka *New Terminal*\n",
    "2. Pastikan *path* Terminal adalah folder repositori kalian (NIM-Nama-Prokom).\n",
    "3. Tambahkan file yang akan ditrack dengan `git add <nama file>`. Nama file bisa diubah . (titik)  `git add .`yang artinya semua file dalam folder akan ditrack.\n",
    "4. Lakukan commit perubahan dengan `git commit -m <deskripsi>`.\n",
    "5. Lakukan push dengan `git push -u origin <nama branch>`. Nama branch dapat diketahui dengan `git branch`.\n",
    "6. Pastikan Exercise-02 telah terupload dan dapat diakses di repositori dengan mengaksesnya di browser."
   ]
  }
 ],
 "metadata": {
  "interpreter": {
   "hash": "229cdfb8eedfa4964725b7eb0da8d7a63b25d97a6ab808f09bd6b506844c0629"
  },
  "kernelspec": {
   "display_name": "Python 3.10.2 64-bit",
   "language": "python",
   "name": "python3"
  },
  "language_info": {
   "codemirror_mode": {
    "name": "ipython",
    "version": 3
   },
   "file_extension": ".py",
   "mimetype": "text/x-python",
   "name": "python",
   "nbconvert_exporter": "python",
   "pygments_lexer": "ipython3",
   "version": "3.10.2"
  },
  "orig_nbformat": 4
 },
 "nbformat": 4,
 "nbformat_minor": 2
}
