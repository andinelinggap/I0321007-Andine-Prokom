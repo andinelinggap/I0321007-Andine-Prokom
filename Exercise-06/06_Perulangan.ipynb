{
 "cells": [
  {
   "cell_type": "markdown",
   "metadata": {},
   "source": [
    "***\n",
    "<h1 align=\"center\">Exercise 06</h1>\n",
    " \n",
    "***\n",
    "## While Loop\n",
    "## Exercise 6.1\n",
    "isilah bagian rumpang berikut. xx diganti tanggal lahir dan yy diganti menjadi bulan lahir. tandanya menyesuaikan yang lebih besar."
   ]
  },
  {
   "cell_type": "code",
   "execution_count": 6,
   "metadata": {},
   "outputs": [
    {
     "name": "stdout",
     "output_type": "stream",
     "text": [
      "Practice makes Perfect\n",
      "Practice makes Perfect\n",
      "Practice makes Perfect\n",
      "Practice makes Perfect\n",
      "Practice makes Perfect\n",
      "Practice makes Perfect\n",
      "Practice makes Perfect\n",
      "Practice makes Perfect\n",
      "Practice makes Perfect\n",
      "Practice makes Perfect\n",
      "Practice makes Perfect\n",
      "Practice makes Perfect\n",
      "Practice makes Perfect\n",
      "Practice makes Perfect\n"
     ]
    }
   ],
   "source": [
    "#menentukan banyak pengulangan\n",
    "n = 24\n",
    "\n",
    "#melakukan pengulangan\n",
    "i = 11\n",
    "\n",
    "while i <= n :\n",
    "    print (\"Practice makes Perfect\")\n",
    "    #diisi motto kalian\n",
    "    i = i + 1 # sesuaikan dengan atas agar fungsi perulangan dapat berhenti\n"
   ]
  },
  {
   "cell_type": "markdown",
   "metadata": {},
   "source": [
    "## Exercise 6.2\n",
    "\n",
    "Buatlah code seperti yang dicontohkan pada modul agar user dapat menginputkan sendiri jumlah n yang diinginkan"
   ]
  },
  {
   "cell_type": "code",
   "execution_count": 8,
   "metadata": {},
   "outputs": [
    {
     "name": "stdout",
     "output_type": "stream",
     "text": [
      "Scroll ke bawah\n",
      "Scroll ke bawah\n",
      "Scroll ke bawah\n",
      "Scroll ke bawah\n",
      "Scroll ke bawah\n",
      "Scroll ke bawah\n",
      "Scroll ke bawah\n",
      "Scroll ke bawah\n",
      "Scroll ke bawah\n",
      "Scroll ke bawah\n",
      "Scroll ke bawah\n",
      "Scroll ke bawah\n",
      "Scroll ke bawah\n",
      "Scroll ke bawah\n",
      "Scroll ke bawah\n",
      "Scroll ke bawah\n",
      "Scroll ke bawah\n",
      "Scroll ke bawah\n",
      "Scroll ke bawah\n",
      "Scroll ke bawah\n"
     ]
    }
   ],
   "source": [
    "#Kerjakan disini\n",
    "n = int(input(\"Masukkan nilai n = \"))\n",
    "i = 11\n",
    "while i <= n :\n",
    "    print(\"Scroll ke bawah\")\n",
    "    i = i + 1\n"
   ]
  },
  {
   "cell_type": "markdown",
   "metadata": {},
   "source": [
    "## Excercise 6.3\n",
    "\n",
    "isilah xx, yy, dan tanda rumpang seperti pada exercise 6.1\n"
   ]
  },
  {
   "cell_type": "code",
   "execution_count": 11,
   "metadata": {},
   "outputs": [
    {
     "name": "stdout",
     "output_type": "stream",
     "text": [
      "Baris ke-24 : Doctor Strange\n",
      "Baris ke-23 : Doctor Strange\n",
      "Baris ke-22 : Doctor Strange\n",
      "Baris ke-21 : Doctor Strange\n",
      "Baris ke-20 : Doctor Strange\n",
      "Baris ke-19 : Doctor Strange\n",
      "Baris ke-18 : Doctor Strange\n",
      "Baris ke-17 : Doctor Strange\n",
      "Baris ke-16 : Doctor Strange\n",
      "Baris ke-15 : Doctor Strange\n",
      "Baris ke-14 : Doctor Strange\n",
      "Baris ke-13 : Doctor Strange\n",
      "Baris ke-12 : Doctor Strange\n",
      "Baris ke-11 : Doctor Strange\n"
     ]
    }
   ],
   "source": [
    "#melakukan pengulangan\n",
    "i = 24\n",
    "\n",
    "while i >= 11 :\n",
    "    print (\"Baris ke-%d : Doctor Strange\"%i)\n",
    "    #isi titik-titik dengan judul film favorit kalian\n",
    "    i = i - 1 "
   ]
  },
  {
   "cell_type": "markdown",
   "metadata": {},
   "source": [
    "## FOR LOOP\n",
    "\n",
    "## Exercise 6.4\n",
    "\n",
    "munculkan 3 dari 7 elemen yang berada di dalam list1 dan list2\n"
   ]
  },
  {
   "cell_type": "code",
   "execution_count": 19,
   "metadata": {},
   "outputs": [
    {
     "name": "stdout",
     "output_type": "stream",
     "text": [
      "1 mie Solo\n",
      "2 nasi goreng Oslo\n",
      "3 ayam Tokyo\n",
      "4 sate Moscow\n",
      "5 gudeg London\n",
      "6 pasta Roma\n",
      "7 sop Paris\n"
     ]
    }
   ],
   "source": [
    "list1 = [\"mie\",\"nasi goreng\",\"ayam\",\"sate\",\"gudeg\",\"pasta\",\"sop\"] #masukkan 7 list makanan favorit kalian\n",
    "list2 = [\"Solo\",\"Oslo\",\"Tokyo\",\"Moscow\",\"London\",\"Roma\",\"Paris\"] #masukkan 7 list kota favorit kalian\n",
    "\n",
    "for i in range(0,7) :\n",
    "    print(i+1, list1[i] , list2[i])"
   ]
  },
  {
   "cell_type": "markdown",
   "metadata": {},
   "source": [
    "## Perulangan Bersarang\n",
    "\n",
    "## Exercise 6.5"
   ]
  },
  {
   "cell_type": "code",
   "execution_count": 29,
   "metadata": {},
   "outputs": [
    {
     "name": "stdout",
     "output_type": "stream",
     "text": [
      "121 \n",
      "132 144 \n",
      "143 156 169 \n",
      "154 168 182 196 \n",
      "165 180 195 210 225 \n",
      "176 192 208 224 240 256 \n",
      "187 204 221 238 255 272 289 \n",
      "198 216 234 252 270 288 306 324 \n",
      "209 228 247 266 285 304 323 342 361 \n",
      "220 240 260 280 300 320 340 360 380 400 \n",
      "231 252 273 294 315 336 357 378 399 420 441 \n",
      "242 264 286 308 330 352 374 396 418 440 462 484 \n",
      "253 276 299 322 345 368 391 414 437 460 483 506 529 \n",
      "264 288 312 336 360 384 408 432 456 480 504 528 552 576 \n"
     ]
    }
   ],
   "source": [
    "i = 11\n",
    "while i <=24:\n",
    "    j = 11\n",
    "    while j<=i:\n",
    "        print(\"%d \" % (i*j), end = '')\n",
    "        j = j + 1\n",
    "    print()\n",
    "    i+=1"
   ]
  },
  {
   "cell_type": "markdown",
   "metadata": {},
   "source": [
    "## Pernyataan Loncat\n",
    "\n",
    "## Exercise 6.\n",
    "\n",
    "Buatlah fungsi berikut agar muncul angka hingga berhenti sesuai dengan nilai qq\n",
    "qq = angka favorit kalian\n",
    "pp>qq"
   ]
  },
  {
   "cell_type": "code",
   "execution_count": 28,
   "metadata": {},
   "outputs": [
    {
     "name": "stdout",
     "output_type": "stream",
     "text": [
      "0 1 2 3 4 5 6 7 8 9 10 11 12 13 14 15 16 17 18 19 20 21 22 23 24 25 26 27 28 29 30 31 32 33 34 35 36 37 38 39 40 41 42 43 44 45 46 47 48 49 50 51 52 53 54 55 56 57 58 59 60 61 62 63 64 65 66 67 68 69 70 71 72 73 74 75 76 77 78 79 80 81 82 83 84 85 86 87 88 89 90 91 92 93 94 95 96 97 98 99 "
     ]
    }
   ],
   "source": [
    "for i in range(123):\n",
    "    print(i,end=' ')\n",
    "    if i == 99:\n",
    "        break"
   ]
  },
  {
   "cell_type": "markdown",
   "metadata": {},
   "source": [
    "***\n",
    "<h1 align=\"center\">WELL DONE</h1>\n",
    " \n",
    "***"
   ]
  }
 ],
 "metadata": {
  "interpreter": {
   "hash": "cd08f94adcf3cbae37fe85286256f4c2a10455ca9094fd053e9f3d3f09647223"
  },
  "kernelspec": {
   "display_name": "Python 3.9.7 64-bit",
   "language": "python",
   "name": "python3"
  },
  "language_info": {
   "codemirror_mode": {
    "name": "ipython",
    "version": 3
   },
   "file_extension": ".py",
   "mimetype": "text/x-python",
   "name": "python",
   "nbconvert_exporter": "python",
   "pygments_lexer": "ipython3",
   "version": "3.10.2"
  },
  "orig_nbformat": 4
 },
 "nbformat": 4,
 "nbformat_minor": 2
}
